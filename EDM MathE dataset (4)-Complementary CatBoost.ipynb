{
 "cells": [
  {
   "cell_type": "markdown",
   "metadata": {},
   "source": [
    "https://archive.ics.uci.edu/ml/datasets/student+performance"
   ]
  },
  {
   "cell_type": "code",
   "execution_count": 1,
   "metadata": {},
   "outputs": [],
   "source": [
    "# A - with all variables from Table 1 except G3 (the\n",
    "# output);\n",
    "# B - similar to A but without G2 (the second period\n",
    "# grade); and\n",
    "# C - similar to B but without G1 (the first period\n",
    "\n",
    "# 1. Binary classification – pass if G3\u001510, else fail;\n",
    "# 2. 5-Level classification – based on the Erasmus1\n",
    "# grade conversion system (Table 2);\n",
    "# 3. Regression – the G3 value (numeric output between\n",
    "# 0 and 20).\n",
    "\n",
    "\n",
    "# Table 2: The five-level classification system\n",
    "# I II III IV V\n",
    "# Country (excellent/very good) (good) (satisfactory) (sufficient) (fail)\n",
    "# Portugal/France 16-20 14-15 12-13 10-11 0-9\n",
    "# Ireland A B C D F"
   ]
  },
  {
   "cell_type": "code",
   "execution_count": 1,
   "metadata": {},
   "outputs": [],
   "source": [
    "import numpy as np\n",
    "import pandas as pd\n",
    "from copy import deepcopy\n",
    "from sklearn.utils import shuffle\n",
    "from scipy.stats import ranksums\n",
    "from catboost import CatBoostRegressor\n",
    "from sklearn.svm import SVR\n",
    "from xgboost import XGBRegressor\n",
    "from sklearn.neural_network import MLPRegressor\n",
    "from sklearn.ensemble import RandomForestRegressor,BaggingRegressor\n",
    "from sklearn.tree import DecisionTreeRegressor\n",
    "# from sklearn.ensemble import BaggingRegressor\n",
    "from sklearn.metrics import accuracy_score,f1_score,precision_score,recall_score\n",
    "import matplotlib.pyplot as plt\n",
    "import seaborn as sns\n",
    "from sklearn.preprocessing import LabelEncoder,OrdinalEncoder\n",
    "import warnings\n",
    "from math import log2\n",
    "\n",
    "def KFoldCV(model, data, n_fold=10):\n",
    "#     num = len(data)\n",
    "    diff = int(len(data)/n_fold)\n",
    "    results = np.zeros((n_fold, 4))\n",
    "    for i in range(n_fold):\n",
    "        begin = diff*i\n",
    "        end = diff*(i+1)\n",
    "#         if i == n_fold-1:\n",
    "#             end = -1\n",
    "        test = data[begin:end]\n",
    "        train = deepcopy(data)\n",
    "        train = np.delete(train, range(begin, end),axis=0)\n",
    "        X_train, y_train = train[:,:-1], train[:,-1]\n",
    "        X_test, y = test[:,:-1], test[:,-1]\n",
    "        predictY = model.fit(X_train, y_train).predict(X_test)\n",
    "        mae = np.mean(abs((y-predictY)))\n",
    "        stdErr = np.std(((y-predictY)))\n",
    "        error=sum((y-predictY)**2)\n",
    "        RMSE=np.sqrt(error/len(y))\n",
    "        MAC = np.dot(y,predictY)**2/(np.dot(y, y)*np.dot(predictY, predictY))\n",
    "#         print(mae, stdErr, RMSE, MAC)\n",
    "        results[i,:] = [mae, stdErr, RMSE, MAC]\n",
    "    return results\n",
    "\n",
    "warnings.filterwarnings('ignore')\n",
    "\n",
    "# data = pd.read_csv('./student-mat.csv', sep=';')\n",
    "# por = pd.read_csv('./student-por.csv', sep=';')\n",
    "# combine = pd.merge(math, por, on=[\"school\",\"sex\",\"age\",\"address\",\"famsize\",\"Pstatus\",\"Medu\",\"Fedu\",\"Mjob\",\"Fjob\",\"reason\",\"nursery\",\"internet\"])\n",
    "# data = data.values\n",
    "# data = shuffle(data)"
   ]
  },
  {
   "cell_type": "code",
   "execution_count": 4,
   "metadata": {},
   "outputs": [],
   "source": [
    "data=pd.read_csv('./exams.csv')\n",
    "data['math_score']=data['math score']\n",
    "data.drop(columns=['math score'],inplace=True)\n",
    "data.drop(columns=['reading score'],inplace=True)\n",
    "data.drop(columns=['writing score'],inplace=True)\n",
    "\n",
    "cats = ['gender', 'race/ethnicity', 'parental level of education', 'lunch',\n",
    "       'test preparation course']\n",
    "oe = OrdinalEncoder()\n",
    "for c in cats:\n",
    "    oe.fit(data[c].values.reshape(-1,1))\n",
    "    data[c] = np.asarray(oe.transform(data[c].values.reshape(-1,1)),dtype=int)\n",
    "#     np.asarray(data['gender'],dtype=int)\n",
    "data = data.values\n",
    "data = shuffle(data)"
   ]
  },
  {
   "cell_type": "code",
   "execution_count": 5,
   "metadata": {},
   "outputs": [
    {
     "data": {
      "text/plain": [
       "(1000, 6)"
      ]
     },
     "execution_count": 5,
     "metadata": {},
     "output_type": "execute_result"
    }
   ],
   "source": [
    "# data.shape (395, 33)\n",
    "# np.savetxt('math.txt',data)\n",
    "data.shape"
   ]
  },
  {
   "cell_type": "markdown",
   "metadata": {},
   "source": [
    "# Complementary CatBoost"
   ]
  },
  {
   "cell_type": "code",
   "execution_count": 28,
   "metadata": {},
   "outputs": [
    {
     "name": "stdout",
     "output_type": "stream",
     "text": [
      "[10.28313001 12.58178048 12.64748641  0.96618514]\n"
     ]
    }
   ],
   "source": [
    "from sklearn.model_selection import GridSearchCV\n",
    "from catboost import CatBoostClassifier\n",
    "\n",
    "# F(x) = F'(x) + Error(x)\n",
    "# F(x) = F'(x) + noise * Error(x)\n",
    "# F(x) = weighted * F'(x) + noise * Error(x)\n",
    "# train F'(x)\n",
    "# train Error(x)\n",
    "\n",
    "def gridSearch4CatBoost(X,y,n_estimators,max_depth):\n",
    "#     cbc = CatBoostRegressor(verbose=False,task_type=\"GPU\",devices='0:1')\n",
    "# #     cbc = RandomForestRegressor()\n",
    "#     grid = {'max_depth': [3,4,5],'n_estimators':[100,300,500]}\n",
    "#     gscv = GridSearchCV (estimator = cbc, param_grid = grid, cv = 10)\n",
    "#     gscv.fit(X,y)\n",
    "#     return gscv.best_estimator_\n",
    "    return CatBoostRegressor(verbose=False,task_type=\"GPU\",devices='0:1',n_estimators=n_estimators,max_depth=max_depth).fit(X,y)\n",
    "\n",
    "def KFoldCV2(data,n_estimators,max_depth, n_fold=10):\n",
    "#     num = len(data)\n",
    "    diff = int(len(data)/n_fold)\n",
    "    results = np.zeros((n_fold, 4))\n",
    "    for i in range(n_fold):\n",
    "        begin = diff*i\n",
    "        end = diff*(i+1)\n",
    "        if i == n_fold-1:\n",
    "            end = -1\n",
    "        test = data[begin:end]\n",
    "        train = deepcopy(data)\n",
    "        train = np.delete(train, range(begin, end),axis=0)\n",
    "        X_train, y_train = train[:,:-1], train[:,-1]\n",
    "        X_test, y = test[:,:-1], test[:,-1]\n",
    "#        gridSearch4CatBoost grid search for F'(x) and Error(x)\n",
    "        model = gridSearch4CatBoost(X_train, y_train,n_estimators,max_depth)\n",
    "        errorY = y_train - model.predict(X_train)\n",
    "#         model = gridSearch4CatBoost(np.hstack((X_train,errorY.reshape((len(errorY),1)))), y_train,n_estimators,max_depth)\n",
    "#         errorYBi = [1 if i > 0 else -1 for i in errorY]\n",
    "#         modelDir = CatBoostClassifier(verbose=False,task_type=\"GPU\",devices='0:1',n_estimators=n_estimators,max_depth=max_depth).fit(X_train, errorYBi)\n",
    "#         yDir = modelDir.predict(X_train)\n",
    "#         print(yDir)\n",
    "        predictYe = gridSearch4CatBoost(X_train, errorY,n_estimators,max_depth).predict(X_test)\n",
    "#         predictYe = gridSearch4CatBoost(X_train, errorY,n_estimators,max_depth).predict(np.hstack((X_test,predictYe))\n",
    "#         predictYdir = modelDir.predict(X_test)\n",
    "#         predictYp = model.predict(np.hstack((X_test,predictYe.reshape((len(predictYe),1)))))\n",
    "        predictYp = model.predict(X_test)\n",
    "        predictY = predictYp + predictYe#*predictYdir\n",
    "#         predictY = predictY.astype(int)\n",
    "#         print(predictYe)\n",
    "#         print(predictYp)\n",
    "#         print(predictY)\n",
    "#         print(y)\n",
    "        mae = np.mean(abs((y-predictY)))\n",
    "        stdErr = np.std(y-predictY)\n",
    "        error=sum((y-predictY)**2)\n",
    "        RMSE=np.sqrt(error/len(y))\n",
    "        MAC = np.dot(y,predictY)**2/(np.dot(y, y)*np.dot(predictY, predictY))\n",
    "#         print(mae, stdErr, RMSE, MAC)\n",
    "        results[i,:] = [mae, stdErr, RMSE, MAC]\n",
    "    return results\n",
    "\n",
    "n_estimators= [100,300,500]\n",
    "max_depth = [3,4, 5]\n",
    "n_estimators  = [500]\n",
    "max_depth = [3]\n",
    "epochs=20\n",
    "cats = np.zeros((epochs,4))\n",
    "for i in n_estimators:\n",
    "    for j in max_depth:\n",
    "        for epoch in range(epochs):\n",
    "            data = shuffle(data)\n",
    "            result = KFoldCV2(data,i,j)\n",
    "            cats[epoch,:] = np.mean(result, axis=0)\n",
    "        print(np.mean(cats, axis=0))"
   ]
  },
  {
   "cell_type": "code",
   "execution_count": 29,
   "metadata": {},
   "outputs": [
    {
     "data": {
      "text/plain": [
       "array([[10.33683681, 12.61418604, 12.68702128,  0.96598765],\n",
       "       [10.30611661, 12.60183855, 12.66658037,  0.96596826],\n",
       "       [10.2596241 , 12.59210571, 12.64140485,  0.96608665],\n",
       "       [10.22991   , 12.53095897, 12.60274352,  0.96659239],\n",
       "       [10.25820485, 12.55637855, 12.62804114,  0.96630289],\n",
       "       [10.25020433, 12.55842569, 12.6044201 ,  0.966364  ],\n",
       "       [10.24542597, 12.52399484, 12.61793501,  0.96642894],\n",
       "       [10.25663489, 12.55877569, 12.64032688,  0.96632518],\n",
       "       [10.2423483 , 12.50053725, 12.58394767,  0.96652428],\n",
       "       [10.2769226 , 12.52375557, 12.62735493,  0.96631577],\n",
       "       [10.33037594, 12.60746296, 12.71607984,  0.96612578],\n",
       "       [10.3051041 , 12.49598675, 12.66456567,  0.96643821],\n",
       "       [10.25721347, 12.58380297, 12.6218869 ,  0.96628678],\n",
       "       [10.33380234, 12.63402144, 12.69468005,  0.96586823],\n",
       "       [10.31050308, 12.61405711, 12.64169679,  0.96605114],\n",
       "       [10.28396951, 12.61476   , 12.64565803,  0.96611099],\n",
       "       [10.29561949, 12.62743629, 12.66031417,  0.96601867],\n",
       "       [10.28086414, 12.61781853, 12.63906315,  0.96607816],\n",
       "       [10.29356238, 12.62036133, 12.67003498,  0.96601652],\n",
       "       [10.30935731, 12.65894539, 12.69597291,  0.96581229]])"
      ]
     },
     "execution_count": 29,
     "metadata": {},
     "output_type": "execute_result"
    }
   ],
   "source": [
    "cats"
   ]
  },
  {
   "cell_type": "code",
   "execution_count": null,
   "metadata": {},
   "outputs": [],
   "source": []
  },
  {
   "cell_type": "code",
   "execution_count": 15,
   "metadata": {},
   "outputs": [
    {
     "name": "stdout",
     "output_type": "stream",
     "text": [
      "[10.50035188 12.82000237 12.88493592  0.96492894]\n"
     ]
    },
    {
     "data": {
      "text/plain": [
       "array([[10.48674677, 12.8078695 , 12.87240416,  0.96507965],\n",
       "       [10.53517642, 12.83205261, 12.91528779,  0.96484173],\n",
       "       [10.50550186, 12.78842066, 12.88444854,  0.96512614],\n",
       "       [10.48260742, 12.78890605, 12.8780005 ,  0.96498124],\n",
       "       [10.47123931, 12.73472935, 12.82594575,  0.96528171],\n",
       "       [10.47070507, 12.80627762, 12.85139089,  0.96498894],\n",
       "       [10.50325423, 12.86522618, 12.91052004,  0.96473301],\n",
       "       [10.53420467, 12.87783045, 12.93766032,  0.96469861],\n",
       "       [10.50438269, 12.80893905, 12.89600462,  0.96500389],\n",
       "       [10.51451285, 12.87138102, 12.90724974,  0.96471261],\n",
       "       [10.5268448 , 12.8221958 , 12.87587816,  0.96482719],\n",
       "       [10.54986849, 12.84050778, 12.94037312,  0.96483127],\n",
       "       [10.47476423, 12.7709702 , 12.86547292,  0.965134  ],\n",
       "       [10.48106027, 12.8264216 , 12.88693323,  0.96483193],\n",
       "       [10.52897254, 12.90780823, 12.92161945,  0.96448549],\n",
       "       [10.49807048, 12.82188902, 12.87300827,  0.96498761],\n",
       "       [10.51400508, 12.84150621, 12.89245333,  0.96490806],\n",
       "       [10.47082229, 12.75702868, 12.82607655,  0.96502539],\n",
       "       [10.49410751, 12.84791165, 12.90544909,  0.96488883],\n",
       "       [10.46019072, 12.78217572, 12.83254198,  0.96521146]])"
      ]
     },
     "execution_count": 15,
     "metadata": {},
     "output_type": "execute_result"
    }
   ],
   "source": [
    "hidden_layer_sizes  = [100, 300, 500]\n",
    "max_iter = [500, 1000,1500]\n",
    "hidden_layer_sizes  = [100]\n",
    "max_iter = [1500]\n",
    "# epochs=20\n",
    "mlps = np.zeros((epochs,4))\n",
    "for i in hidden_layer_sizes:\n",
    "    for j in max_iter:\n",
    "        for epoch in range(epochs):\n",
    "            data = shuffle(data)\n",
    "            model = MLPRegressor(hidden_layer_sizes=i, max_iter=j)\n",
    "            result = KFoldCV(model, data)\n",
    "            mlps[epoch,:] = np.mean(result, axis=0)\n",
    "#             print(np.mean(result, axis=0))\n",
    "        print(np.mean(mlps, axis=0))\n",
    "mlps"
   ]
  },
  {
   "cell_type": "code",
   "execution_count": null,
   "metadata": {},
   "outputs": [],
   "source": []
  },
  {
   "cell_type": "code",
   "execution_count": 16,
   "metadata": {},
   "outputs": [
    {
     "name": "stdout",
     "output_type": "stream",
     "text": [
      "[10.58700921 12.91784524 12.99657763  0.96442133]\n"
     ]
    },
    {
     "data": {
      "text/plain": [
       "array([[10.57437472, 12.8953004 , 12.98231542,  0.96448172],\n",
       "       [10.61261776, 12.97907919, 13.02963848,  0.96415158],\n",
       "       [10.59859422, 12.92461952, 13.00838953,  0.96450851],\n",
       "       [10.56897548, 12.82646712, 12.96267449,  0.96486945],\n",
       "       [10.59704072, 12.9379981 , 12.99069344,  0.96433838],\n",
       "       [10.63603724, 12.95876046, 13.05753988,  0.96428943],\n",
       "       [10.55067538, 12.88991121, 12.95368201,  0.9645632 ],\n",
       "       [10.59245468, 12.88907046, 13.00413572,  0.96443792],\n",
       "       [10.59427915, 12.95789553, 13.01666104,  0.96422114],\n",
       "       [10.53541485, 12.93160971, 12.9730646 ,  0.96438938],\n",
       "       [10.5645061 , 12.93380823, 12.99605943,  0.96439393],\n",
       "       [10.54631055, 12.89700294, 12.96376519,  0.96459302],\n",
       "       [10.63398602, 12.90690832, 13.02889217,  0.96445196],\n",
       "       [10.60491849, 12.9686663 , 13.01721786,  0.96423902],\n",
       "       [10.59708434, 12.93854284, 12.99525839,  0.96428993],\n",
       "       [10.59823391, 12.94222359, 13.01642311,  0.96427868],\n",
       "       [10.60769202, 12.95253494, 13.01176903,  0.96427376],\n",
       "       [10.57464604, 12.86895167, 12.97755066,  0.96464486],\n",
       "       [10.52924204, 12.88391929, 12.91884683,  0.96453716],\n",
       "       [10.62310045, 12.87363501, 13.02697543,  0.96447355]])"
      ]
     },
     "execution_count": 16,
     "metadata": {},
     "output_type": "execute_result"
    }
   ],
   "source": [
    "Cs = [10, 100, 1000]\n",
    "gammas = [0.001, 0.01, 0.1]\n",
    "Cs = [1000]\n",
    "gammas = [0.01]\n",
    "svms = np.zeros((epochs,4))\n",
    "for i in range(len(Cs)):\n",
    "    for j in range(len(gammas)):\n",
    "        lc = len(Cs)\n",
    "        lg = len(gammas)\n",
    "        for epoch in range(epochs):\n",
    "            data = shuffle(data)\n",
    "            model = SVR(kernel = 'rbf', C = Cs[i], gamma = gammas[j])\n",
    "            result = KFoldCV(model, data)\n",
    "            svms[epoch,:] = np.mean(result, axis=0)\n",
    "        print(np.mean(svms, axis=0))\n",
    "svms"
   ]
  },
  {
   "cell_type": "code",
   "execution_count": 17,
   "metadata": {},
   "outputs": [
    {
     "name": "stdout",
     "output_type": "stream",
     "text": [
      "[10.5287168  12.88943416 12.96146096  0.96457344]\n"
     ]
    },
    {
     "data": {
      "text/plain": [
       "array([[10.56357783, 12.88727565, 12.99753526,  0.96463465],\n",
       "       [10.53297773, 12.89137669, 12.96219978,  0.9646313 ],\n",
       "       [10.52324232, 12.96168836, 13.00424839,  0.96424371],\n",
       "       [10.49477024, 12.78760309, 12.91549021,  0.96510856],\n",
       "       [10.48057071, 12.88381109, 12.9370011 ,  0.9646202 ],\n",
       "       [10.4883514 , 12.8674062 , 12.94058004,  0.96463169],\n",
       "       [10.51186583, 12.916243  , 12.93666646,  0.96434479],\n",
       "       [10.54334732, 12.87422563, 12.95530473,  0.96471365],\n",
       "       [10.60652864, 12.95832899, 13.02431264,  0.96421873],\n",
       "       [10.48117518, 12.84014675, 12.89142272,  0.96474119],\n",
       "       [10.54688498, 12.87702812, 12.95197175,  0.96454124],\n",
       "       [10.57259057, 12.89499898, 12.9932968 ,  0.96462527],\n",
       "       [10.56169665, 12.93041388, 13.01116206,  0.96436662],\n",
       "       [10.5093062 , 12.84503194, 12.94185713,  0.96492102],\n",
       "       [10.51569235, 12.91958979, 12.96432907,  0.96446239],\n",
       "       [10.51440637, 12.90038312, 12.95015115,  0.96456386],\n",
       "       [10.55548129, 12.88080648, 12.97274616,  0.96457834],\n",
       "       [10.52363536, 12.90432541, 12.94917328,  0.96452265],\n",
       "       [10.56344746, 12.93302288, 13.00309517,  0.96429194],\n",
       "       [10.48478753, 12.83497725, 12.92667525,  0.96470702]])"
      ]
     },
     "execution_count": 17,
     "metadata": {},
     "output_type": "execute_result"
    }
   ],
   "source": [
    "n_estimators  = [100, 300, 500]\n",
    "max_depth = [3, 4, 5]\n",
    "n_estimators  = [100]\n",
    "max_depth = [4]\n",
    "rfs = np.zeros((epochs,4))\n",
    "for i in n_estimators:\n",
    "    for j in max_depth:\n",
    "        for epoch in range(epochs):\n",
    "            data = shuffle(data)\n",
    "            model = RandomForestRegressor(n_estimators=i, max_depth=j)\n",
    "            result = KFoldCV(model, data)\n",
    "            rfs[epoch,:] = np.mean(result, axis=0)\n",
    "        print(np.mean(rfs, axis=0))\n",
    "rfs"
   ]
  },
  {
   "cell_type": "code",
   "execution_count": 18,
   "metadata": {},
   "outputs": [
    {
     "name": "stdout",
     "output_type": "stream",
     "text": [
      "[10.53736862 12.9356543  13.00629692  0.96429965]\n"
     ]
    },
    {
     "data": {
      "text/plain": [
       "array([[10.59453449, 12.97493785, 13.0392183 ,  0.96417082],\n",
       "       [10.52275826, 12.96471467, 13.02392113,  0.96410156],\n",
       "       [10.50078196, 12.90976589, 12.9234842 ,  0.96444215],\n",
       "       [10.55995133, 12.90853524, 13.00903503,  0.96450645],\n",
       "       [10.49710229, 12.86186487, 12.9386831 ,  0.96463293],\n",
       "       [10.58856044, 12.96164819, 13.07171611,  0.96413088],\n",
       "       [10.57241734, 12.96683691, 13.0691375 ,  0.96420584],\n",
       "       [10.58340266, 13.01337159, 13.05066923,  0.96384601],\n",
       "       [10.48791776, 12.90167286, 12.96371815,  0.96450736],\n",
       "       [10.50817938, 12.83895388, 12.97258178,  0.96457466],\n",
       "       [10.48010977, 12.8971459 , 12.95864208,  0.96454718],\n",
       "       [10.57944787, 12.98298161, 13.01770227,  0.9640574 ],\n",
       "       [10.57545399, 13.01333779, 13.06511775,  0.96394314],\n",
       "       [10.59054166, 12.97664756, 13.02542407,  0.96405854],\n",
       "       [10.58804293, 12.94936715, 13.03445054,  0.96428529],\n",
       "       [10.47809878, 12.92456989, 12.99586497,  0.9643792 ],\n",
       "       [10.4839207 , 12.88208511, 12.95941418,  0.96456107],\n",
       "       [10.5237919 , 12.9190761 , 12.99494575,  0.96438291],\n",
       "       [10.48352383, 12.86581058, 12.95910195,  0.96471041],\n",
       "       [10.54883504, 12.99976246, 13.05311036,  0.96394927]])"
      ]
     },
     "execution_count": 18,
     "metadata": {},
     "output_type": "execute_result"
    }
   ],
   "source": [
    "n_estimators= [100, 300, 500]\n",
    "max_depth = [3, 4, 5]\n",
    "n_estimators  = [100]\n",
    "max_depth = [3]\n",
    "xgbs = np.zeros((epochs,4))\n",
    "for i in n_estimators:\n",
    "    for j in max_depth:\n",
    "        for epoch in range(epochs):\n",
    "            data = shuffle(data)\n",
    "            model = XGBRegressor(n_estimators=i, max_depth=j)\n",
    "            result = KFoldCV(model, data)\n",
    "            xgbs[epoch,:] = np.mean(result, axis=0)\n",
    "        print(np.mean(xgbs, axis=0))\n",
    "xgbs"
   ]
  },
  {
   "cell_type": "code",
   "execution_count": 19,
   "metadata": {},
   "outputs": [
    {
     "name": "stdout",
     "output_type": "stream",
     "text": [
      "[10.45099405 12.81351062 12.87977424  0.96495319]\n"
     ]
    },
    {
     "data": {
      "text/plain": [
       "array([[10.43668665, 12.7518325 , 12.84209266,  0.96525321],\n",
       "       [10.48622276, 12.85962859, 12.91683639,  0.96463912],\n",
       "       [10.44452485, 12.75252797, 12.85235839,  0.96530756],\n",
       "       [10.40030812, 12.66324739, 12.79546205,  0.9656369 ],\n",
       "       [10.44673406, 12.77961754, 12.8589656 ,  0.96515095],\n",
       "       [10.52031387, 12.86390428, 12.96018662,  0.9646344 ],\n",
       "       [10.39484448, 12.74367705, 12.81334193,  0.9653066 ],\n",
       "       [10.3817023 , 12.79552965, 12.83340393,  0.96512806],\n",
       "       [10.42168628, 12.80462077, 12.87416943,  0.96511627],\n",
       "       [10.43253794, 12.80198235, 12.88539444,  0.96516333],\n",
       "       [10.42798356, 12.81734462, 12.87138615,  0.96504814],\n",
       "       [10.42994194, 12.72157684, 12.79882631,  0.96529172],\n",
       "       [10.46572014, 12.81540202, 12.87823005,  0.96486769],\n",
       "       [10.42819439, 12.82923961, 12.8743509 ,  0.96492173],\n",
       "       [10.48743441, 12.92057298, 12.96505872,  0.9644901 ],\n",
       "       [10.4590054 , 12.83360445, 12.88636052,  0.96475712],\n",
       "       [10.50737738, 12.86892805, 12.93545282,  0.96453374],\n",
       "       [10.47259642, 12.9097735 , 12.93527395,  0.96444229],\n",
       "       [10.45623928, 12.86376299, 12.90459895,  0.9646674 ],\n",
       "       [10.51982681, 12.87343928, 12.91373496,  0.96470742]])"
      ]
     },
     "execution_count": 19,
     "metadata": {},
     "output_type": "execute_result"
    }
   ],
   "source": [
    "n_estimators= [100,300,500]\n",
    "max_depth = [3,4, 5]\n",
    "n_estimators  = [300]\n",
    "max_depth = [3]\n",
    "# epochs=20\n",
    "cats = np.zeros((epochs,4))\n",
    "for i in n_estimators:\n",
    "    for j in max_depth:\n",
    "        for epoch in range(epochs):\n",
    "            data = shuffle(data)\n",
    "            model = CatBoostRegressor(n_estimators=i, max_depth=j,verbose=False)\n",
    "            result = KFoldCV(model, data)\n",
    "            cats[epoch,:] = np.mean(result, axis=0)\n",
    "#             print(np.mean(result, axis=0))\n",
    "        print(np.mean(cats, axis=0))\n",
    "cats"
   ]
  },
  {
   "cell_type": "code",
   "execution_count": null,
   "metadata": {},
   "outputs": [],
   "source": []
  },
  {
   "cell_type": "code",
   "execution_count": 30,
   "metadata": {},
   "outputs": [],
   "source": [
    "mlps = np.array([[10.48674677, 12.8078695 , 12.87240416,  0.96507965],\n",
    "       [10.53517642, 12.83205261, 12.91528779,  0.96484173],\n",
    "       [10.50550186, 12.78842066, 12.88444854,  0.96512614],\n",
    "       [10.48260742, 12.78890605, 12.8780005 ,  0.96498124],\n",
    "       [10.47123931, 12.73472935, 12.82594575,  0.96528171],\n",
    "       [10.47070507, 12.80627762, 12.85139089,  0.96498894],\n",
    "       [10.50325423, 12.86522618, 12.91052004,  0.96473301],\n",
    "       [10.53420467, 12.87783045, 12.93766032,  0.96469861],\n",
    "       [10.50438269, 12.80893905, 12.89600462,  0.96500389],\n",
    "       [10.51451285, 12.87138102, 12.90724974,  0.96471261],\n",
    "       [10.5268448 , 12.8221958 , 12.87587816,  0.96482719],\n",
    "       [10.54986849, 12.84050778, 12.94037312,  0.96483127],\n",
    "       [10.47476423, 12.7709702 , 12.86547292,  0.965134  ],\n",
    "       [10.48106027, 12.8264216 , 12.88693323,  0.96483193],\n",
    "       [10.52897254, 12.90780823, 12.92161945,  0.96448549],\n",
    "       [10.49807048, 12.82188902, 12.87300827,  0.96498761],\n",
    "       [10.51400508, 12.84150621, 12.89245333,  0.96490806],\n",
    "       [10.47082229, 12.75702868, 12.82607655,  0.96502539],\n",
    "       [10.49410751, 12.84791165, 12.90544909,  0.96488883],\n",
    "       [10.46019072, 12.78217572, 12.83254198,  0.96521146]])\n",
    "\n",
    "svms = np.array([[10.57437472, 12.8953004 , 12.98231542,  0.96448172],\n",
    "       [10.61261776, 12.97907919, 13.02963848,  0.96415158],\n",
    "       [10.59859422, 12.92461952, 13.00838953,  0.96450851],\n",
    "       [10.56897548, 12.82646712, 12.96267449,  0.96486945],\n",
    "       [10.59704072, 12.9379981 , 12.99069344,  0.96433838],\n",
    "       [10.63603724, 12.95876046, 13.05753988,  0.96428943],\n",
    "       [10.55067538, 12.88991121, 12.95368201,  0.9645632 ],\n",
    "       [10.59245468, 12.88907046, 13.00413572,  0.96443792],\n",
    "       [10.59427915, 12.95789553, 13.01666104,  0.96422114],\n",
    "       [10.53541485, 12.93160971, 12.9730646 ,  0.96438938],\n",
    "       [10.5645061 , 12.93380823, 12.99605943,  0.96439393],\n",
    "       [10.54631055, 12.89700294, 12.96376519,  0.96459302],\n",
    "       [10.63398602, 12.90690832, 13.02889217,  0.96445196],\n",
    "       [10.60491849, 12.9686663 , 13.01721786,  0.96423902],\n",
    "       [10.59708434, 12.93854284, 12.99525839,  0.96428993],\n",
    "       [10.59823391, 12.94222359, 13.01642311,  0.96427868],\n",
    "       [10.60769202, 12.95253494, 13.01176903,  0.96427376],\n",
    "       [10.57464604, 12.86895167, 12.97755066,  0.96464486],\n",
    "       [10.52924204, 12.88391929, 12.91884683,  0.96453716],\n",
    "       [10.62310045, 12.87363501, 13.02697543,  0.96447355]])\n",
    "\n",
    "rfs = np.array([[10.56357783, 12.88727565, 12.99753526,  0.96463465],\n",
    "       [10.53297773, 12.89137669, 12.96219978,  0.9646313 ],\n",
    "       [10.52324232, 12.96168836, 13.00424839,  0.96424371],\n",
    "       [10.49477024, 12.78760309, 12.91549021,  0.96510856],\n",
    "       [10.48057071, 12.88381109, 12.9370011 ,  0.9646202 ],\n",
    "       [10.4883514 , 12.8674062 , 12.94058004,  0.96463169],\n",
    "       [10.51186583, 12.916243  , 12.93666646,  0.96434479],\n",
    "       [10.54334732, 12.87422563, 12.95530473,  0.96471365],\n",
    "       [10.60652864, 12.95832899, 13.02431264,  0.96421873],\n",
    "       [10.48117518, 12.84014675, 12.89142272,  0.96474119],\n",
    "       [10.54688498, 12.87702812, 12.95197175,  0.96454124],\n",
    "       [10.57259057, 12.89499898, 12.9932968 ,  0.96462527],\n",
    "       [10.56169665, 12.93041388, 13.01116206,  0.96436662],\n",
    "       [10.5093062 , 12.84503194, 12.94185713,  0.96492102],\n",
    "       [10.51569235, 12.91958979, 12.96432907,  0.96446239],\n",
    "       [10.51440637, 12.90038312, 12.95015115,  0.96456386],\n",
    "       [10.55548129, 12.88080648, 12.97274616,  0.96457834],\n",
    "       [10.52363536, 12.90432541, 12.94917328,  0.96452265],\n",
    "       [10.56344746, 12.93302288, 13.00309517,  0.96429194],\n",
    "       [10.48478753, 12.83497725, 12.92667525,  0.96470702]])\n",
    "\n",
    "xgbs = np.array([[10.59453449, 12.97493785, 13.0392183 ,  0.96417082],\n",
    "       [10.52275826, 12.96471467, 13.02392113,  0.96410156],\n",
    "       [10.50078196, 12.90976589, 12.9234842 ,  0.96444215],\n",
    "       [10.55995133, 12.90853524, 13.00903503,  0.96450645],\n",
    "       [10.49710229, 12.86186487, 12.9386831 ,  0.96463293],\n",
    "       [10.58856044, 12.96164819, 13.07171611,  0.96413088],\n",
    "       [10.57241734, 12.96683691, 13.0691375 ,  0.96420584],\n",
    "       [10.58340266, 13.01337159, 13.05066923,  0.96384601],\n",
    "       [10.48791776, 12.90167286, 12.96371815,  0.96450736],\n",
    "       [10.50817938, 12.83895388, 12.97258178,  0.96457466],\n",
    "       [10.48010977, 12.8971459 , 12.95864208,  0.96454718],\n",
    "       [10.57944787, 12.98298161, 13.01770227,  0.9640574 ],\n",
    "       [10.57545399, 13.01333779, 13.06511775,  0.96394314],\n",
    "       [10.59054166, 12.97664756, 13.02542407,  0.96405854],\n",
    "       [10.58804293, 12.94936715, 13.03445054,  0.96428529],\n",
    "       [10.47809878, 12.92456989, 12.99586497,  0.9643792 ],\n",
    "       [10.4839207 , 12.88208511, 12.95941418,  0.96456107],\n",
    "       [10.5237919 , 12.9190761 , 12.99494575,  0.96438291],\n",
    "       [10.48352383, 12.86581058, 12.95910195,  0.96471041],\n",
    "       [10.54883504, 12.99976246, 13.05311036,  0.96394927]])\n",
    "\n",
    "cats = np.array([[10.43668665, 12.7518325 , 12.84209266,  0.96525321],\n",
    "       [10.48622276, 12.85962859, 12.91683639,  0.96463912],\n",
    "       [10.44452485, 12.75252797, 12.85235839,  0.96530756],\n",
    "       [10.40030812, 12.66324739, 12.79546205,  0.9656369 ],\n",
    "       [10.44673406, 12.77961754, 12.8589656 ,  0.96515095],\n",
    "       [10.52031387, 12.86390428, 12.96018662,  0.9646344 ],\n",
    "       [10.39484448, 12.74367705, 12.81334193,  0.9653066 ],\n",
    "       [10.3817023 , 12.79552965, 12.83340393,  0.96512806],\n",
    "       [10.42168628, 12.80462077, 12.87416943,  0.96511627],\n",
    "       [10.43253794, 12.80198235, 12.88539444,  0.96516333],\n",
    "       [10.42798356, 12.81734462, 12.87138615,  0.96504814],\n",
    "       [10.42994194, 12.72157684, 12.79882631,  0.96529172],\n",
    "       [10.46572014, 12.81540202, 12.87823005,  0.96486769],\n",
    "       [10.42819439, 12.82923961, 12.8743509 ,  0.96492173],\n",
    "       [10.48743441, 12.92057298, 12.96505872,  0.9644901 ],\n",
    "       [10.4590054 , 12.83360445, 12.88636052,  0.96475712],\n",
    "       [10.50737738, 12.86892805, 12.93545282,  0.96453374],\n",
    "       [10.47259642, 12.9097735 , 12.93527395,  0.96444229],\n",
    "       [10.45623928, 12.86376299, 12.90459895,  0.9646674 ],\n",
    "       [10.51982681, 12.87343928, 12.91373496,  0.96470742]])\n",
    "\n",
    "ccats = np.array([[10.33683681, 12.61418604, 12.68702128,  0.96598765],\n",
    "       [10.30611661, 12.60183855, 12.66658037,  0.96596826],\n",
    "       [10.2596241 , 12.59210571, 12.64140485,  0.96608665],\n",
    "       [10.22991   , 12.53095897, 12.60274352,  0.96659239],\n",
    "       [10.25820485, 12.55637855, 12.62804114,  0.96630289],\n",
    "       [10.25020433, 12.55842569, 12.6044201 ,  0.966364  ],\n",
    "       [10.24542597, 12.52399484, 12.61793501,  0.96642894],\n",
    "       [10.25663489, 12.55877569, 12.64032688,  0.96632518],\n",
    "       [10.2423483 , 12.50053725, 12.58394767,  0.96652428],\n",
    "       [10.2769226 , 12.52375557, 12.62735493,  0.96631577],\n",
    "       [10.33037594, 12.60746296, 12.71607984,  0.96612578],\n",
    "       [10.3051041 , 12.49598675, 12.66456567,  0.96643821],\n",
    "       [10.25721347, 12.58380297, 12.6218869 ,  0.96628678],\n",
    "       [10.33380234, 12.63402144, 12.69468005,  0.96586823],\n",
    "       [10.31050308, 12.61405711, 12.64169679,  0.96605114],\n",
    "       [10.28396951, 12.61476   , 12.64565803,  0.96611099],\n",
    "       [10.29561949, 12.62743629, 12.66031417,  0.96601867],\n",
    "       [10.28086414, 12.61781853, 12.63906315,  0.96607816],\n",
    "       [10.29356238, 12.62036133, 12.67003498,  0.96601652],\n",
    "       [10.30935731, 12.65894539, 12.69597291,  0.96581229]])"
   ]
  },
  {
   "cell_type": "code",
   "execution_count": 34,
   "metadata": {},
   "outputs": [
    {
     "name": "stderr",
     "output_type": "stream",
     "text": [
      "The PostScript backend does not support transparency; partially transparent artists will be rendered opaque.\n"
     ]
    },
    {
     "data": {
      "image/png": "[encoded data removed]",
      "text/plain": [
       "<Figure size 1600x700 with 1 Axes>"
      ]
     },
     "metadata": {},
     "output_type": "display_data"
    }
   ],
   "source": [
    "from matplotlib.pyplot import figure\n",
    "from matplotlib import pyplot as plt\n",
    "\n",
    "\n",
    "mlp = np.mean(mlps, axis=0)\n",
    "svm = np.mean(svms, axis=0)\n",
    "rf = np.mean(rfs, axis=0)\n",
    "xgb = np.mean(xgbs, axis=0)\n",
    "cat = np.mean(cats, axis=0)\n",
    "ccat = np.mean(ccats, axis=0)\n",
    "names = ['    MAE', '      SD','        RMSE','          MAC']\n",
    "\n",
    "figure(num=None, figsize=(16, 7))\n",
    "y_pos=np.arange(len(names))\n",
    "plt.bar(y_pos + 0, mlp,width=0.1, color = 'blue' , label='MLP')\n",
    "plt.bar(y_pos + 0.1, svm,width=0.1, color = 'orange' , label='SVM')\n",
    "plt.bar(y_pos + 0.2, rf,width=0.1, color = 'brown' , label='RF')\n",
    "plt.bar(y_pos + 0.3, xgb,width=0.1, color = 'olive' , label='XGBoost')\n",
    "plt.bar(y_pos + 0.4, cat,width=0.1, label='CatBoost')\n",
    "plt.bar(y_pos + 0.5, ccat,width=0.1, label='C-CatBoost')\n",
    "\n",
    "font = {\n",
    "#     'family' : 'Times New Roman',\n",
    "#         'weight' : 'bold',\n",
    "        'size'   : 18}\n",
    "plt.rcParams.update({'font.size': 18})\n",
    "plt.rc('font', **font)\n",
    "plt.ylim(10, 14)\n",
    "plt.xticks(y_pos, names)\n",
    "plt.legend(('MLP', 'SVM','RF','XGBoost','CatBoost','C-CatBoost'),loc='upper left')\n",
    "plt.savefig('mathCase3.eps', format='eps',bbox_inches='tight')\n",
    "# plt.title(\"Put a title here\")\n",
    "plt.show()"
   ]
  },
  {
   "cell_type": "code",
   "execution_count": 31,
   "metadata": {},
   "outputs": [
    {
     "data": {
      "image/png": "[encoded data removed]",
      "text/plain": [
       "<Figure size 640x480 with 1 Axes>"
      ]
     },
     "metadata": {},
     "output_type": "display_data"
    }
   ],
   "source": [
    "df = pd.DataFrame(columns=['MLP', 'SVM',\"RF\",\"XGBoost\",\"CatBoost\",'C-CatBoost'])\n",
    "i = 0\n",
    "df[\"MLP\"] = mlps[:, i]\n",
    "df[\"SVM\"] = svms[:, i]\n",
    "df[\"RF\"] = rfs[:, i]\n",
    "df[\"XGBoost\"] = xgbs[:, i]\n",
    "df[\"CatBoost\"] = cats[:, i]\n",
    "df[\"C-CatBoost\"] = ccats[:, i]\n",
    "ax = sns.boxplot(data=df,orient='h')#, x=x, y=y, hue=hue\n",
    "# add_stat_annotation(ax, data=df,\n",
    "#                     box_pairs=[(\"ANN\", \"FW-LS-SVM\"), (\"SVM\", \"FW-LS-SVM\"),\n",
    "#                                  (\"LS-SVM\", \"FW-LS-SVM\")\n",
    "#                                 ],\n",
    "#                     test='t-test_ind', text_format='full', loc='inside', verbose=2)\n",
    "# plt.legend(loc='upper left', bbox_to_anchor=(1.03, 1))\n",
    "ax.set(xlabel=\"MAE\")\n",
    "\n",
    "# plt.savefig('ensembleUCI.eps', format='eps')\n",
    "plt.savefig('mathMAECase3.eps', format='eps',bbox_inches  ='tight')"
   ]
  },
  {
   "cell_type": "code",
   "execution_count": 32,
   "metadata": {},
   "outputs": [
    {
     "data": {
      "image/png": "[encoded data removed]",
      "text/plain": [
       "<Figure size 640x480 with 1 Axes>"
      ]
     },
     "metadata": {},
     "output_type": "display_data"
    }
   ],
   "source": [
    "df = pd.DataFrame(columns=['MLP', 'SVM',\"RF\",\"XGBoost\",\"CatBoost\",'C-CatBoost'])\n",
    "i = 2\n",
    "df[\"MLP\"] = mlps[:, i]\n",
    "df[\"SVM\"] = svms[:, i]\n",
    "df[\"RF\"] = rfs[:, i]\n",
    "df[\"XGBoost\"] = xgbs[:, i]\n",
    "df[\"CatBoost\"] = cats[:, i]\n",
    "df[\"C-CatBoost\"] = ccats[:, i]\n",
    "ax = sns.boxplot(data=df,orient='h')#, x=x, y=y, hue=hue\n",
    "# add_stat_annotation(ax, data=df,\n",
    "#                     box_pairs=[(\"ANN\", \"FW-LS-SVM\"), (\"SVM\", \"FW-LS-SVM\"),\n",
    "#                                  (\"LS-SVM\", \"FW-LS-SVM\")\n",
    "#                                 ],\n",
    "#                     test='t-test_ind', text_format='full', loc='inside', verbose=2)\n",
    "# plt.legend(loc='upper left', bbox_to_anchor=(1.03, 1))\n",
    "ax.set(xlabel=\"RMSE\")\n",
    "\n",
    "# plt.savefig('ensembleUCI.eps', format='eps')\n",
    "plt.savefig('mathRMSECase3.eps', format='eps',bbox_inches  ='tight')"
   ]
  },
  {
   "cell_type": "code",
   "execution_count": 33,
   "metadata": {},
   "outputs": [
    {
     "name": "stdout",
     "output_type": "stream",
     "text": [
      "6.301848221392269e-08\n",
      "6.301848221392269e-08\n",
      "6.301848221392269e-08\n",
      "6.301848221392269e-08\n",
      "6.301848221392269e-08\n",
      "\n",
      "6.301848221392269e-08\n",
      "6.301848221392269e-08\n",
      "6.301848221392269e-08\n",
      "6.301848221392269e-08\n",
      "6.301848221392269e-08\n",
      "\n",
      "6.301848221392269e-08\n",
      "6.301848221392269e-08\n",
      "6.301848221392269e-08\n",
      "6.301848221392269e-08\n",
      "6.301848221392269e-08\n",
      "\n",
      "6.301848221392269e-08\n",
      "6.301848221392269e-08\n",
      "6.301848221392269e-08\n",
      "6.301848221392269e-08\n",
      "6.301848221392269e-08\n",
      "\n"
     ]
    }
   ],
   "source": [
    "# for i in range(4):\n",
    "#     print(ranksums(mlp[:,i], svm[:,i]).pvalue)\n",
    "# i=0\n",
    "for i in range(4):\n",
    "    print(ranksums(ccats[:,i], mlps[:,i]).pvalue)\n",
    "    print(ranksums(ccats[:,i], svms[:,i]).pvalue)\n",
    "    print(ranksums(ccats[:,i], rfs[:,i]).pvalue)\n",
    "    print(ranksums(ccats[:,i], xgbs[:,i]).pvalue)\n",
    "    print(ranksums(ccats[:,i], cats[:,i]).pvalue)\n",
    "    print()\n"
   ]
  },
  {
   "cell_type": "code",
   "execution_count": null,
   "metadata": {},
   "outputs": [],
   "source": []
  }
 ],
 "metadata": {
  "kernelspec": {
   "display_name": "Python 3 (ipykernel)",
   "language": "python",
   "name": "python3"
  },
  "language_info": {
   "codemirror_mode": {
    "name": "ipython",
    "version": 3
   },
   "file_extension": ".py",
   "mimetype": "text/x-python",
   "name": "python",
   "nbconvert_exporter": "python",
   "pygments_lexer": "ipython3",
   "version": "3.11.4"
  }
 },
 "nbformat": 4,
 "nbformat_minor": 2
}
